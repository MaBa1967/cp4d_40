{
 "cells": [
  {
   "cell_type": "code",
   "execution_count": 2,
   "id": "chronic-kingdom",
   "metadata": {
    "id": "890b0435-399b-4402-aa59-558c73f7e138",
    "tags": []
   },
   "outputs": [
    {
     "name": "stdout",
     "output_type": "stream",
     "text": [
      "Notebook1\n"
     ]
    }
   ],
   "source": [
    "print(\"Notebook1\")"
   ]
  },
  {
   "cell_type": "code",
   "execution_count": null,
   "id": "caring-night",
   "metadata": {
    "id": "62ebd4db-c576-4b29-9dc4-fba9c31c6609"
   },
   "outputs": [],
   "source": []
  }
 ],
 "metadata": {
  "kernelspec": {
   "display_name": "Python 3.8",
   "language": "python",
   "name": "python3"
  },
  "language_info": {
   "codemirror_mode": {
    "name": "ipython",
    "version": 3
   },
   "file_extension": ".py",
   "mimetype": "text/x-python",
   "name": "python",
   "nbconvert_exporter": "python",
   "pygments_lexer": "ipython3",
   "version": "3.8.11"
  }
 },
 "nbformat": 4,
 "nbformat_minor": 5
}
